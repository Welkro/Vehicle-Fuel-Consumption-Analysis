{
 "cells": [
  {
   "cell_type": "markdown",
   "metadata": {},
   "source": [
    "# Import Libraries"
   ]
  },
  {
   "cell_type": "code",
   "execution_count": 1,
   "metadata": {},
   "outputs": [],
   "source": [
    "import pandas as pd\n",
    "import lightningchart as lc\n",
    "import numpy as np\n",
    "\n",
    "\n",
    "# Set license key\n",
    "lc.set_license('LICENSE_KEY')\n"
   ]
  },
  {
   "cell_type": "markdown",
   "metadata": {},
   "source": [
    "# Data Loading and Preprocessing"
   ]
  },
  {
   "cell_type": "code",
   "execution_count": 2,
   "metadata": {},
   "outputs": [
    {
     "name": "stdout",
     "output_type": "stream",
     "text": [
      "<class 'pandas.core.frame.DataFrame'>\n",
      "RangeIndex: 38113 entries, 0 to 38112\n",
      "Data columns (total 81 columns):\n",
      " #   Column                             Non-Null Count  Dtype  \n",
      "---  ------                             --------------  -----  \n",
      " 0   vehicle_id                         38113 non-null  int64  \n",
      " 1   year                               38113 non-null  int64  \n",
      " 2   make                               38113 non-null  object \n",
      " 3   model                              38113 non-null  object \n",
      " 4   class                              38113 non-null  object \n",
      " 5   drive                              36924 non-null  object \n",
      " 6   transmission                       38102 non-null  object \n",
      " 7   transmission_type                  15045 non-null  object \n",
      " 8   engine_index                       38113 non-null  int64  \n",
      " 9   engine_descriptor                  22693 non-null  object \n",
      " 10  engine_cylinders                   37977 non-null  float64\n",
      " 11  engine_displacement                37979 non-null  float64\n",
      " 12  turbocharger                       5239 non-null   object \n",
      " 13  supercharger                       0 non-null      float64\n",
      " 14  fuel_type                          38113 non-null  object \n",
      " 15  fuel_type_1                        38113 non-null  object \n",
      " 16  fuel_type_2                        0 non-null      float64\n",
      " 17  city_mpg_ft1                       38113 non-null  int64  \n",
      " 18  unrounded_city_mpg_ft1             38113 non-null  float64\n",
      " 19  city_mpg_ft2                       38113 non-null  int64  \n",
      " 20  unrounded_city_mpg_ft2             38113 non-null  float64\n",
      " 21  city_gasoline_consumption_cd       38113 non-null  float64\n",
      " 22  city_electricity_consumption       38113 non-null  float64\n",
      " 23  city_utility_factor                38113 non-null  float64\n",
      " 24  highway_mpg_ft1                    38113 non-null  int64  \n",
      " 25  unrounded_highway_mpg_ft1          38113 non-null  float64\n",
      " 26  highway_mpg_ft2                    38113 non-null  int64  \n",
      " 27  unrounded_highway_mpg_ft2          38113 non-null  float64\n",
      " 28  highway_gasoline_consumption_cd    38113 non-null  float64\n",
      " 29  highway_electricity_consumption    38113 non-null  float64\n",
      " 30  highway_utility_factor             38113 non-null  float64\n",
      " 31  unadjusted_city_mpg_ft1            38113 non-null  float64\n",
      " 32  unadjusted_highway_mpg_ft1         38113 non-null  float64\n",
      " 33  unadjusted_city_mpg_ft2            38113 non-null  float64\n",
      " 34  unadjusted_highway_mpg_ft2         38113 non-null  float64\n",
      " 35  unrounded_combined_mpg_ft1         38113 non-null  float64\n",
      " 36  combined_mpg_ft2                   38113 non-null  int64  \n",
      " 37  unrounded_combined_mpg_ft2         38113 non-null  float64\n",
      " 38  combined_electricity_consumption   38113 non-null  float64\n",
      " 39  combined_gasoline_consumption_cd   38113 non-null  float64\n",
      " 40  combined_utility_factor            38113 non-null  float64\n",
      " 41  annual_fuel_cost_ft1               38113 non-null  int64  \n",
      " 42  annual_fuel_cost_ft2               38113 non-null  int64  \n",
      " 43  gas_guzzler_tax                    964 non-null    object \n",
      " 44  save_or_spend_5_year               38113 non-null  int64  \n",
      " 45  annual_consumption_in_barrels_ft1  38113 non-null  float64\n",
      " 46  annual_consumption_in_barrels_ft2  38113 non-null  float64\n",
      " 47  tailpipe_co2_ft1                   38113 non-null  int64  \n",
      " 48  tailpipe_co2_ft2                   38113 non-null  int64  \n",
      " 49  tailpipe_co2_in_grams_mile_ft2     38113 non-null  float64\n",
      " 50  fuel_economy_score                 38113 non-null  int64  \n",
      " 51  ghg_score                          38113 non-null  int64  \n",
      " 52  ghg_score_alt_fuel                 38113 non-null  int64  \n",
      " 53  my_mpg_data                        38113 non-null  object \n",
      " 54  x2d_passenger_volume               38113 non-null  int64  \n",
      " 55  x2d_luggage_volume                 38113 non-null  int64  \n",
      " 56  x4d_passenger_volume               38113 non-null  int64  \n",
      " 57  x4d_luggage_volume                 38113 non-null  int64  \n",
      " 58  hatchback_passenger_volume         38113 non-null  int64  \n",
      " 59  hatchback_luggage_volume           38113 non-null  int64  \n",
      " 60  start_stop_technology              0 non-null      float64\n",
      " 61  alternative_fuel_technology        3047 non-null   object \n",
      " 62  electric_motor                     0 non-null      float64\n",
      " 63  manufacturer_code                  0 non-null      float64\n",
      " 64  gasoline_electricity_blended_cd    38113 non-null  bool   \n",
      " 65  vehicle_charger                    0 non-null      float64\n",
      " 66  alternate_charger                  0 non-null      float64\n",
      " 67  hours_to_charge_120v               38113 non-null  int64  \n",
      " 68  hours_to_charge_240v               38113 non-null  float64\n",
      " 69  hours_to_charge_ac_240v            38113 non-null  float64\n",
      " 70  composite_city_mpg                 38113 non-null  int64  \n",
      " 71  composite_highway_mpg              38113 non-null  int64  \n",
      " 72  composite_combined_mpg             38113 non-null  int64  \n",
      " 73  range_ft1                          38113 non-null  int64  \n",
      " 74  city_range_ft1                     38113 non-null  float64\n",
      " 75  highway_range_ft1                  38113 non-null  float64\n",
      " 76  range_ft2                          0 non-null      float64\n",
      " 77  city_range_ft2                     38113 non-null  float64\n",
      " 78  highway_range_ft2                  38113 non-null  float64\n",
      " 79  fuel_efficiency_l_per_100km        38113 non-null  float64\n",
      " 80  co2_emissions_g_per_km             38113 non-null  float64\n",
      "dtypes: bool(1), float64(40), int64(27), object(13)\n",
      "memory usage: 23.3+ MB\n"
     ]
    },
    {
     "name": "stderr",
     "output_type": "stream",
     "text": [
      "C:\\Users\\Roy\\AppData\\Local\\Temp\\ipykernel_196964\\161859615.py:3: DtypeWarning: Columns (7,44) have mixed types. Specify dtype option on import or set low_memory=False.\n",
      "  vehicle_fuel = pd.read_csv(dataset)\n"
     ]
    },
    {
     "data": {
      "text/plain": [
       "vehicle_id                         0\n",
       "year                               0\n",
       "make                               0\n",
       "model                              0\n",
       "class                              0\n",
       "                               ...  \n",
       "range_ft2                      38113\n",
       "city_range_ft2                     0\n",
       "highway_range_ft2                  0\n",
       "fuel_efficiency_l_per_100km        0\n",
       "co2_emissions_g_per_km             0\n",
       "Length: 81, dtype: int64"
      ]
     },
     "execution_count": 2,
     "metadata": {},
     "output_type": "execute_result"
    }
   ],
   "source": [
    "# Load the dataset\n",
    "dataset = 'dataset/fuel.csv'\n",
    "vehicle_fuel = pd.read_csv(dataset)\n",
    "\n",
    "# Convert units to metric\n",
    "vehicle_fuel['fuel_efficiency_l_per_100km'] = 235.215 / vehicle_fuel['combined_mpg_ft1'].replace(0, float('nan'))\n",
    "vehicle_fuel['co2_emissions_g_per_km'] = vehicle_fuel['tailpipe_co2_in_grams_mile_ft1'] / 1.60934\n",
    "\n",
    "# Drop the original imperial columns if they are no longer needed\n",
    "vehicle_fuel = vehicle_fuel.drop(columns=['combined_mpg_ft1', 'tailpipe_co2_in_grams_mile_ft1'])\n",
    "\n",
    "# Display basic information about the updated dataset and check for missing values\n",
    "vehicle_fuel.info()\n",
    "vehicle_fuel.isnull().sum()"
   ]
  },
  {
   "cell_type": "code",
   "execution_count": 3,
   "metadata": {},
   "outputs": [
    {
     "data": {
      "text/html": [
       "<div>\n",
       "<style scoped>\n",
       "    .dataframe tbody tr th:only-of-type {\n",
       "        vertical-align: middle;\n",
       "    }\n",
       "\n",
       "    .dataframe tbody tr th {\n",
       "        vertical-align: top;\n",
       "    }\n",
       "\n",
       "    .dataframe thead th {\n",
       "        text-align: right;\n",
       "    }\n",
       "</style>\n",
       "<table border=\"1\" class=\"dataframe\">\n",
       "  <thead>\n",
       "    <tr style=\"text-align: right;\">\n",
       "      <th></th>\n",
       "      <th>year</th>\n",
       "      <th>fuel_efficiency_l_per_100km</th>\n",
       "    </tr>\n",
       "  </thead>\n",
       "  <tbody>\n",
       "    <tr>\n",
       "      <th>0</th>\n",
       "      <td>1984</td>\n",
       "      <td>12.754723</td>\n",
       "    </tr>\n",
       "    <tr>\n",
       "      <th>1</th>\n",
       "      <td>1985</td>\n",
       "      <td>12.752270</td>\n",
       "    </tr>\n",
       "    <tr>\n",
       "      <th>2</th>\n",
       "      <td>1986</td>\n",
       "      <td>12.887889</td>\n",
       "    </tr>\n",
       "    <tr>\n",
       "      <th>3</th>\n",
       "      <td>1987</td>\n",
       "      <td>13.144079</td>\n",
       "    </tr>\n",
       "    <tr>\n",
       "      <th>4</th>\n",
       "      <td>1988</td>\n",
       "      <td>12.997663</td>\n",
       "    </tr>\n",
       "  </tbody>\n",
       "</table>\n",
       "</div>"
      ],
      "text/plain": [
       "   year  fuel_efficiency_l_per_100km\n",
       "0  1984                    12.754723\n",
       "1  1985                    12.752270\n",
       "2  1986                    12.887889\n",
       "3  1987                    13.144079\n",
       "4  1988                    12.997663"
      ]
     },
     "execution_count": 3,
     "metadata": {},
     "output_type": "execute_result"
    }
   ],
   "source": [
    "# Drop NaN values in 'year' and 'fuel_efficiency_l_per_100km' columns\n",
    "vehicle_fuel_clean = vehicle_fuel.dropna(subset=['year', 'fuel_efficiency_l_per_100km'])\n",
    "\n",
    "# Remove rows where fuel efficiency is 0 or missing (NaN)\n",
    "vehicle_fuel_clean = vehicle_fuel_clean[vehicle_fuel_clean['fuel_efficiency_l_per_100km'] > 0]\n",
    "\n",
    "# Group data by year and calculate the average liters per 100 km per year\n",
    "fuel_efficiency_trend = vehicle_fuel_clean.groupby('year')['fuel_efficiency_l_per_100km'].mean().reset_index()\n",
    "\n",
    "# Display the processed data to ensure it's correct\n",
    "fuel_efficiency_trend.head()"
   ]
  },
  {
   "cell_type": "code",
   "execution_count": 4,
   "metadata": {},
   "outputs": [],
   "source": [
    "def convert_year_to_unix_timestamps(year_series):\n",
    "    # If the input is numeric ( integers or floats), assume it's already valid years\n",
    "    if pd.api.types.is_numeric_dtype(year_series):\n",
    "        return (pd.to_datetime(year_series, format='%Y', errors='coerce')\n",
    "                .astype('int64') // 10**6).tolist()\n",
    "\n",
    "    # If the input is a string, try to parse it as years\n",
    "    return (pd.to_datetime(year_series.astype(str), format='%Y', errors='coerce')\n",
    "            .astype('int64') // 10**6).tolist()\n"
   ]
  },
  {
   "cell_type": "markdown",
   "metadata": {},
   "source": [
    "# Exploratory Data Analysis (EDA)"
   ]
  },
  {
   "cell_type": "markdown",
   "metadata": {},
   "source": [
    "## Line & Area Chart"
   ]
  },
  {
   "cell_type": "code",
   "execution_count": 5,
   "metadata": {},
   "outputs": [
    {
     "data": {
      "text/html": [
       "\n",
       "        <iframe\n",
       "            width=\"100%\"\n",
       "            height=\"600\"\n",
       "            src=\"http://localhost:64550\"\n",
       "            frameborder=\"0\"\n",
       "            allowfullscreen\n",
       "            \n",
       "        ></iframe>\n",
       "        "
      ],
      "text/plain": [
       "<IPython.lib.display.IFrame at 0x275a561a6f0>"
      ]
     },
     "metadata": {},
     "output_type": "display_data"
    },
    {
     "name": "stderr",
     "output_type": "stream",
     "text": [
      "127.0.0.1 - - [02/Jan/2025 18:00:58] \"GET / HTTP/1.1\" 200 -\n"
     ]
    }
   ],
   "source": [
    "# Convert years to Unix timestamps\n",
    "x_values = convert_year_to_unix_timestamps(fuel_efficiency_trend['year'])\n",
    "\n",
    "# Extract y_values as before\n",
    "y_values = fuel_efficiency_trend['fuel_efficiency_l_per_100km'].tolist()\n",
    "\n",
    "# Create the chart\n",
    "chart = lc.ChartXY(\n",
    "    theme=lc.Themes.TurquoiseHexagon,\n",
    "    title='Fuel Consumption Trends (L/km) Over Time'\n",
    ")\n",
    "\n",
    "# Customize the chart axes labels\n",
    "x_axis = chart.get_default_x_axis()\n",
    "x_axis.set_tick_strategy('DateTime')\n",
    "x_axis.set_title('Year')\n",
    "chart.get_default_y_axis().set_title('L/km')\n",
    "\n",
    "# Add line series to the chart\n",
    "series = chart.add_line_series(data_pattern=\"ProgressiveX\").append_samples(\n",
    "    x_values=x_values,\n",
    "    y_values=y_values\n",
    ")\n",
    "\n",
    "# Open the chart\n",
    "chart.open()"
   ]
  },
  {
   "cell_type": "code",
   "execution_count": 6,
   "metadata": {},
   "outputs": [
    {
     "data": {
      "text/html": [
       "\n",
       "        <iframe\n",
       "            width=\"100%\"\n",
       "            height=\"600\"\n",
       "            src=\"http://localhost:64551\"\n",
       "            frameborder=\"0\"\n",
       "            allowfullscreen\n",
       "            \n",
       "        ></iframe>\n",
       "        "
      ],
      "text/plain": [
       "<IPython.lib.display.IFrame at 0x275a54c5bb0>"
      ]
     },
     "metadata": {},
     "output_type": "display_data"
    },
    {
     "name": "stderr",
     "output_type": "stream",
     "text": [
      "127.0.0.1 - - [02/Jan/2025 18:00:59] \"GET / HTTP/1.1\" 200 -\n"
     ]
    }
   ],
   "source": [
    "# Clean the data and group by year, calculating the average fuel efficiency (MPG)\n",
    "vehicle_fuel_clean = vehicle_fuel.dropna(subset=['year', 'fuel_efficiency_l_per_100km'])\n",
    "fuel_efficiency_trend = vehicle_fuel_clean.groupby('year')['fuel_efficiency_l_per_100km'].mean().reset_index()\n",
    "\n",
    "# Convert MPG to L/100 km using the formula\n",
    "fuel_efficiency_trend['fuel_efficiency_l_per_100km']\n",
    "\n",
    "# Convert years to Unix timestamps\n",
    "x_values = fuel_efficiency_trend['year'] = convert_year_to_unix_timestamps(fuel_efficiency_trend['year'])\n",
    "\n",
    "# Extract y_values\n",
    "y_values = fuel_efficiency_trend['fuel_efficiency_l_per_100km'].tolist()\n",
    "\n",
    "# Create the Positive Area Series chart\n",
    "chart = lc.ChartXY(\n",
    "    theme=lc.Themes.TurquoiseHexagon,\n",
    "    title='Fuel Efficiency Over Time (L/100 km)'\n",
    ")\n",
    "\n",
    "# Add the area series\n",
    "series = chart.add_positive_area_series().add(x_values, y_values)\n",
    "\n",
    "# Set axis titles\n",
    "x_axis = chart.get_default_x_axis()\n",
    "x_axis.set_tick_strategy('DateTime')  # Set the X-axis as DateTime\n",
    "x_axis.set_title('Year')\n",
    "chart.get_default_y_axis().set_title('Fuel Efficiency (L/100 km)')\n",
    "\n",
    "# Open the chart\n",
    "chart.open()"
   ]
  },
  {
   "cell_type": "code",
   "execution_count": 7,
   "metadata": {},
   "outputs": [
    {
     "data": {
      "text/html": [
       "\n",
       "        <iframe\n",
       "            width=\"100%\"\n",
       "            height=\"600\"\n",
       "            src=\"http://localhost:64552\"\n",
       "            frameborder=\"0\"\n",
       "            allowfullscreen\n",
       "            \n",
       "        ></iframe>\n",
       "        "
      ],
      "text/plain": [
       "<IPython.lib.display.IFrame at 0x275a555fb90>"
      ]
     },
     "metadata": {},
     "output_type": "display_data"
    },
    {
     "name": "stderr",
     "output_type": "stream",
     "text": [
      "127.0.0.1 - - [02/Jan/2025 18:01:00] \"GET / HTTP/1.1\" 200 -\n"
     ]
    }
   ],
   "source": [
    "# Clean the data and drop missing values for 'year', 'fuel_efficiency_l_per_100km', and 'class'\n",
    "vehicle_fuel_clean = vehicle_fuel.dropna(subset=['year', 'fuel_efficiency_l_per_100km', 'class'])\n",
    "\n",
    "# Filter to include only the most common vehicle classes\n",
    "common_vehicle_classes = [\n",
    "    'Compact Cars', 'Midsize Cars', 'Large Cars', 'Minivan - 2WD', \n",
    "    'Sport Utility Vehicle - 2WD', 'Sport Utility Vehicle - 4WD', \n",
    "    'Standard Pickup Trucks'\n",
    "]\n",
    "\n",
    "vehicle_fuel_filtered = vehicle_fuel_clean[vehicle_fuel_clean['class'].isin(common_vehicle_classes)]\n",
    "\n",
    "# Group by year and vehicle class, calculating the average fuel efficiency (L/100 km)\n",
    "fuel_efficiency_class_trend = vehicle_fuel_filtered.groupby(['year', 'class'])['fuel_efficiency_l_per_100km'].mean().unstack()\n",
    "\n",
    "# Convert years to Unix timestamps for stacked data\n",
    "x_values = convert_year_to_unix_timestamps(fuel_efficiency_class_trend.index)\n",
    "\n",
    "# Prepare the stacked data for each vehicle class\n",
    "class_data = [fuel_efficiency_class_trend[col].fillna(0).tolist() for col in fuel_efficiency_class_trend.columns]\n",
    "\n",
    "# Calculate stacked data\n",
    "stacked_data = [class_data[0]]\n",
    "for i in range(1, len(class_data)):\n",
    "    stacked_data.append([sum(pair) for pair in zip(stacked_data[i-1], class_data[i])])\n",
    "\n",
    "# Create the Stacked Area Chart\n",
    "chart = lc.ChartXY(\n",
    "    theme=lc.Themes.TurquoiseHexagon,\n",
    "    title=\"Fuel Efficiency by Common Vehicle Class Over Time (L/100 km)\"\n",
    ")\n",
    "\n",
    "# Add area series for each vehicle class stack\n",
    "for i, class_name in enumerate(fuel_efficiency_class_trend.columns):\n",
    "    series = chart.add_area_series()\n",
    "    series.set_name(class_name)\n",
    "    series.add(x_values, stacked_data[i])\n",
    "\n",
    "# Customize the X-axis and Y-axis\n",
    "x_axis = chart.get_default_x_axis()\n",
    "x_axis.set_title(\"Year\")\n",
    "x_axis.set_tick_strategy('DateTime')  # Ensure correct year display\n",
    "\n",
    "chart.get_default_y_axis().set_title(\"Fuel Efficiency (L/100 km)\")\n",
    "\n",
    "# Add legend\n",
    "chart.add_legend(data=chart)\n",
    "\n",
    "# Open the chart\n",
    "chart.open()"
   ]
  },
  {
   "cell_type": "code",
   "execution_count": 8,
   "metadata": {},
   "outputs": [],
   "source": [
    "# Drop NaN values in the necessary columns and clean the data for this analysis\n",
    "vehicle_fuel_clean = vehicle_fuel.dropna(subset=['class', 'fuel_efficiency_l_per_100km'])\n",
    "\n",
    "# Remove rows where fuel_efficiency_l_per_100km is 0 or missing (NaN)\n",
    "vehicle_fuel_clean = vehicle_fuel_clean[vehicle_fuel_clean['fuel_efficiency_l_per_100km'] > 0]\n",
    "\n",
    "# Group data by 'class' and calculate average liters per 100 km per vehicle class\n",
    "fuel_by_class = vehicle_fuel_clean.groupby('class')['fuel_efficiency_l_per_100km'].mean().reset_index()"
   ]
  },
  {
   "cell_type": "code",
   "execution_count": 9,
   "metadata": {},
   "outputs": [],
   "source": [
    "# Drop NaN values in the necessary columns and clean the data\n",
    "vehicle_fuel_clean = vehicle_fuel.dropna(subset=['year', 'co2_emissions_g_per_km'])\n",
    "\n",
    "# Remove rows where co2_emissions_g_per_km is 0 or missing (NaN)\n",
    "vehicle_fuel_clean = vehicle_fuel_clean[vehicle_fuel_clean['co2_emissions_g_per_km'] > 0]\n",
    "\n",
    "# Group data by 'year' and calculate average CO2 emissions per year\n",
    "co2_emissions_trend = vehicle_fuel_clean.groupby('year')['co2_emissions_g_per_km'].mean().reset_index()"
   ]
  },
  {
   "cell_type": "code",
   "execution_count": 10,
   "metadata": {},
   "outputs": [
    {
     "data": {
      "text/html": [
       "\n",
       "        <iframe\n",
       "            width=\"100%\"\n",
       "            height=\"600\"\n",
       "            src=\"http://localhost:64553\"\n",
       "            frameborder=\"0\"\n",
       "            allowfullscreen\n",
       "            \n",
       "        ></iframe>\n",
       "        "
      ],
      "text/plain": [
       "<IPython.lib.display.IFrame at 0x275a5630f80>"
      ]
     },
     "metadata": {},
     "output_type": "display_data"
    },
    {
     "name": "stderr",
     "output_type": "stream",
     "text": [
      "127.0.0.1 - - [02/Jan/2025 18:01:01] \"GET / HTTP/1.1\" 200 -\n"
     ]
    }
   ],
   "source": [
    "# Convert years to Unix timestamps\n",
    "x_values = convert_year_to_unix_timestamps(co2_emissions_trend['year'])\n",
    "\n",
    "# Use the same y_values for CO2 emissions in grams per kilometer\n",
    "y_values = co2_emissions_trend['co2_emissions_g_per_km'].tolist()\n",
    "\n",
    "chart = lc.ChartXY(\n",
    "    theme=lc.Themes.TurquoiseHexagon,\n",
    "    title='CO2 Emissions Over Time (Grams per Kilometer)'\n",
    ")\n",
    "\n",
    "# Add line series with the x and y values\n",
    "series = chart.add_line_series(data_pattern=\"ProgressiveX\").append_samples(\n",
    "    x_values=x_values,\n",
    "    y_values=y_values\n",
    ")\n",
    "\n",
    "# Customize the X-axis to use DateTime ticks\n",
    "x_axis = chart.get_default_x_axis()\n",
    "x_axis.set_tick_strategy('DateTime')  # Set the X-axis as DateTime\n",
    "x_axis.set_title('Year')\n",
    "chart.get_default_y_axis().set_title('CO2 Emissions (g/km)')\n",
    "\n",
    "# Open the chart\n",
    "chart.open()"
   ]
  },
  {
   "cell_type": "code",
   "execution_count": 11,
   "metadata": {},
   "outputs": [
    {
     "data": {
      "text/html": [
       "\n",
       "        <iframe\n",
       "            width=\"100%\"\n",
       "            height=\"600\"\n",
       "            src=\"http://localhost:64554\"\n",
       "            frameborder=\"0\"\n",
       "            allowfullscreen\n",
       "            \n",
       "        ></iframe>\n",
       "        "
      ],
      "text/plain": [
       "<IPython.lib.display.IFrame at 0x275a5631760>"
      ]
     },
     "metadata": {},
     "output_type": "display_data"
    },
    {
     "name": "stderr",
     "output_type": "stream",
     "text": [
      "127.0.0.1 - - [02/Jan/2025 18:01:02] \"GET / HTTP/1.1\" 200 -\n"
     ]
    }
   ],
   "source": [
    "# Clean and filter data, removing rows with missing or very low fuel efficiency values\n",
    "vehicle_fuel_clean = vehicle_fuel.dropna(subset=['year', 'make', 'fuel_efficiency_l_per_100km'])\n",
    "vehicle_fuel_clean = vehicle_fuel_clean[vehicle_fuel_clean['fuel_efficiency_l_per_100km'] > 0.01]\n",
    "\n",
    "# Find the top 10 most common car makes to limit the lines in the chart\n",
    "top_makes = vehicle_fuel_clean['make'].value_counts().nlargest(10).index\n",
    "filtered_data = vehicle_fuel_clean[vehicle_fuel_clean['make'].isin(top_makes)]\n",
    "\n",
    "# Group data by year and make, calculating average fuel efficiency\n",
    "fuel_efficiency_data = filtered_data.pivot_table(\n",
    "    index='year', columns='make', values='fuel_efficiency_l_per_100km', aggfunc='mean'\n",
    ").fillna(0)\n",
    "\n",
    "# Convert the 'year' column to Unix timestamps (milliseconds)\n",
    "x_values = convert_year_to_unix_timestamps(fuel_efficiency_data.index)\n",
    "\n",
    "# Define a custom color palette\n",
    "vibrant_colors = [\n",
    "    lc.Color('white'), lc.Color('salmon'), lc.Color('orange'), lc.Color('limegreen'),\n",
    "    lc.Color('cyan'), lc.Color('dodgerblue'), lc.Color('purple'), lc.Color('deeppink'),\n",
    "    lc.Color('yellow'), lc.Color('greenyellow')\n",
    "]\n",
    "\n",
    "# Initialize the chart\n",
    "chart = lc.ChartXY(\n",
    "    theme=lc.Themes.TurquoiseHexagon,\n",
    "    title='Fuel Efficiency Over Time by Make (Top 10, L/100km)'\n",
    ")\n",
    "\n",
    "# Plot a line for each top car make with colors from the custom palette\n",
    "for idx, car_make in enumerate(fuel_efficiency_data.columns):\n",
    "    y_values = fuel_efficiency_data[car_make].tolist()\n",
    "    series = chart.add_line_series()\n",
    "    series.set_name(car_make)\n",
    "    series.append_samples(x_values=x_values, y_values=y_values)\n",
    "    \n",
    "    # Set a color from the custom palette\n",
    "    series.set_line_color(vibrant_colors[idx % len(vibrant_colors)])\n",
    "\n",
    "# Configure the X-axis for DateTime display\n",
    "x_axis = chart.get_default_x_axis()\n",
    "y_axis = chart.get_default_y_axis()\n",
    "x_axis.set_title('Year')\n",
    "y_axis.set_title('Fuel Efficiency (L/100km)')\n",
    "\n",
    "# Ensure the X-axis interprets the Unix timestamps as dates\n",
    "x_axis.set_tick_strategy('DateTime')\n",
    "\n",
    "# Add a legend to display each car make\n",
    "chart.add_legend(data=chart)\n",
    "chart.set_cursor_mode('show-nearest')  # Set cursor mode\n",
    "\n",
    "# Open the chart\n",
    "chart.open()"
   ]
  },
  {
   "cell_type": "markdown",
   "metadata": {},
   "source": [
    "## Bar Chart"
   ]
  },
  {
   "cell_type": "code",
   "execution_count": 12,
   "metadata": {},
   "outputs": [
    {
     "data": {
      "text/html": [
       "\n",
       "        <iframe\n",
       "            width=\"100%\"\n",
       "            height=\"600\"\n",
       "            src=\"http://localhost:64555\"\n",
       "            frameborder=\"0\"\n",
       "            allowfullscreen\n",
       "            \n",
       "        ></iframe>\n",
       "        "
      ],
      "text/plain": [
       "<IPython.lib.display.IFrame at 0x275a56319d0>"
      ]
     },
     "metadata": {},
     "output_type": "display_data"
    },
    {
     "name": "stderr",
     "output_type": "stream",
     "text": [
      "127.0.0.1 - - [02/Jan/2025 18:01:03] \"GET / HTTP/1.1\" 200 -\n"
     ]
    }
   ],
   "source": [
    "# Prepare the data in the format expected by LightningChart\n",
    "data = [\n",
    "    {'category': row['class'], 'value': row['fuel_efficiency_l_per_100km']} \n",
    "    for _, row in fuel_by_class.iterrows()\n",
    "]\n",
    "\n",
    "# Create the bar chart\n",
    "chart = lc.BarChart(\n",
    "    vertical=True,\n",
    "    theme=lc.Themes.TurquoiseHexagon,\n",
    "    title='Fuel Consumption by Vehicle Class (Liters per 100 Kilometers)'\n",
    ")\n",
    "\n",
    "# Set sorting to disabled (optional)\n",
    "chart.set_sorting('disabled')\n",
    "\n",
    "# Set the data\n",
    "chart.set_data(data)\n",
    "\n",
    "# Set label rotation for better readability\n",
    "chart.set_label_rotation(-90)\n",
    "\n",
    "# Open the chart\n",
    "chart.open()"
   ]
  },
  {
   "cell_type": "markdown",
   "metadata": {},
   "source": [
    "## Heatmap Chart"
   ]
  },
  {
   "cell_type": "code",
   "execution_count": 13,
   "metadata": {},
   "outputs": [
    {
     "data": {
      "text/html": [
       "\n",
       "        <iframe\n",
       "            width=\"100%\"\n",
       "            height=\"600\"\n",
       "            src=\"http://localhost:64556\"\n",
       "            frameborder=\"0\"\n",
       "            allowfullscreen\n",
       "            \n",
       "        ></iframe>\n",
       "        "
      ],
      "text/plain": [
       "<IPython.lib.display.IFrame at 0x275a5632720>"
      ]
     },
     "metadata": {},
     "output_type": "display_data"
    },
    {
     "name": "stderr",
     "output_type": "stream",
     "text": [
      "127.0.0.1 - - [02/Jan/2025 18:01:03] \"GET / HTTP/1.1\" 200 -\n"
     ]
    }
   ],
   "source": [
    "# Clean and filter data, removing rows with missing or zero fuel efficiency values\n",
    "vehicle_fuel_clean = vehicle_fuel.dropna(subset=['year', 'make', 'fuel_efficiency_l_per_100km'])\n",
    "vehicle_fuel_clean = vehicle_fuel_clean[vehicle_fuel_clean['fuel_efficiency_l_per_100km'] > 0.01]\n",
    "\n",
    "# Extract unique years and sort them to create a list for timestamps\n",
    "year_labels = sorted(vehicle_fuel_clean['year'].unique())\n",
    "year_labels_unix = convert_year_to_unix_timestamps(pd.Series(year_labels))\n",
    "\n",
    "# Group data by year and make, calculating average fuel efficiency in liters per 100 kilometers\n",
    "fuel_efficiency_data = vehicle_fuel_clean.pivot_table(\n",
    "    index='year', columns='make', values='fuel_efficiency_l_per_100km', aggfunc='mean'\n",
    ").fillna(0)\n",
    "\n",
    "# Convert data to numpy array and get make labels\n",
    "heatmap_data = fuel_efficiency_data.to_numpy()\n",
    "make_labels = fuel_efficiency_data.columns.tolist()\n",
    "\n",
    "# Define grid dimensions\n",
    "grid_size_x, grid_size_y = int(heatmap_data.shape[0]), int(heatmap_data.shape[1])\n",
    "\n",
    "# Create the chart\n",
    "chart = lc.ChartXY(title='Fuel Efficiency by Year and Make (L/100 km)', theme=lc.Themes.TurquoiseHexagon)\n",
    "\n",
    "# Configure the heatmap with start and end values, steps, and intensity values\n",
    "heatmap_series = chart.add_heatmap_grid_series(columns=grid_size_x, rows=grid_size_y)\n",
    "heatmap_series.set_start(x=year_labels_unix[0], y=0)\n",
    "heatmap_series.set_end(x=year_labels_unix[-1], y=grid_size_y)\n",
    "heatmap_series.set_step(x=1, y=1)\n",
    "heatmap_series.set_intensity_interpolation(True)\n",
    "heatmap_series.invalidate_intensity_values(heatmap_data.tolist())\n",
    "heatmap_series.hide_wireframe()\n",
    "\n",
    "# Define and apply a custom color palette for intensity visualization\n",
    "custom_palette = [\n",
    "    {\"value\": float(np.nanmin(heatmap_data)), \"color\": lc.Color('blue')},\n",
    "    {\"value\": float(np.percentile(heatmap_data, 25)), \"color\": lc.Color('cyan')},\n",
    "    {\"value\": float(np.median(heatmap_data)), \"color\": lc.Color('green')},\n",
    "    {\"value\": float(np.percentile(heatmap_data, 75)), \"color\": lc.Color('yellow')},\n",
    "    {\"value\": float(np.nanmax(heatmap_data)), \"color\": lc.Color('red')}\n",
    "]\n",
    "heatmap_series.set_palette_coloring(steps=custom_palette, look_up_property='value', interpolate=True)\n",
    "\n",
    "# Configure axis titles and set the X-axis to use DateTime strategy\n",
    "x_axis = chart.get_default_x_axis()\n",
    "y_axis = chart.get_default_y_axis()\n",
    "x_axis.set_title('Year')\n",
    "y_axis.set_title('Make')\n",
    "x_axis.set_tick_strategy('DateTime')\n",
    "\n",
    "# Add custom ticks for every 10th make on the Y-axis with index numbers\n",
    "for i in range(0, len(make_labels), 10):  # Step by 10 to select every 10th make\n",
    "    make = make_labels[i]\n",
    "    custom_tick = y_axis.add_custom_tick()\n",
    "    custom_tick.set_value(i)\n",
    "    custom_tick.set_text(f\"{i} - {make}\")  # Display index and make name\n",
    "    custom_tick.set_marker_font(12, family='Segoe UI, sans-serif', weight='bold')\n",
    "\n",
    "# Hide default Y-axis labels to keep only every 10th make label\n",
    "y_axis.set_tick_strategy('Empty')\n",
    "\n",
    "# Add a legend and open the chart\n",
    "chart.add_legend(data=heatmap_series, title='Fuel Efficiency')\n",
    "chart.open()"
   ]
  },
  {
   "cell_type": "markdown",
   "metadata": {},
   "source": [
    "## Pyramid Chart"
   ]
  },
  {
   "cell_type": "code",
   "execution_count": 14,
   "metadata": {},
   "outputs": [
    {
     "data": {
      "text/html": [
       "\n",
       "        <iframe\n",
       "            width=\"100%\"\n",
       "            height=\"600\"\n",
       "            src=\"http://localhost:64557\"\n",
       "            frameborder=\"0\"\n",
       "            allowfullscreen\n",
       "            \n",
       "        ></iframe>\n",
       "        "
      ],
      "text/plain": [
       "<IPython.lib.display.IFrame at 0x275a5633440>"
      ]
     },
     "metadata": {},
     "output_type": "display_data"
    },
    {
     "name": "stderr",
     "output_type": "stream",
     "text": [
      "127.0.0.1 - - [02/Jan/2025 18:01:04] \"GET / HTTP/1.1\" 200 -\n"
     ]
    }
   ],
   "source": [
    "# Define the emissions color palette using named colors\n",
    "emissions_colors = [\n",
    "    lc.Color('darkred'),      # Dark red for very high emissions\n",
    "    lc.Color('firebrick'),    # Firebrick red\n",
    "    lc.Color('chocolate'),    # Dark orange for high emissions\n",
    "    lc.Color('orange'),       # Orange for moderately high emissions\n",
    "    lc.Color('gold'),         # Gold for mid-range emissions\n",
    "    lc.Color('greenyellow'),  # Yellow-green for mid to low emissions\n",
    "    lc.Color('chartreuse'),   # Chartreuse green for lower emissions\n",
    "    lc.Color('limegreen'),    # Lime green for low emissions\n",
    "    lc.Color('forestgreen'),  # Forest green for very low emissions\n",
    "    lc.Color('darkgreen')     # Dark green for the lowest emissions\n",
    "]\n",
    "\n",
    "# Filter to only include common vehicle classes\n",
    "common_classes = [\n",
    "    'Compact Cars', 'Large Cars', 'Midsize Cars',\n",
    "    'Minivan - 2WD', 'Minivan - 4WD',\n",
    "    'Sport Utility Vehicle - 2WD', 'Sport Utility Vehicle - 4WD',\n",
    "    'Standard Pickup Trucks', 'Standard Pickup Trucks 2WD', 'Standard Pickup Trucks 4WD'\n",
    "]\n",
    "filtered_data = vehicle_fuel_clean[vehicle_fuel_clean['class'].isin(common_classes)]\n",
    "\n",
    "# Calculate the average CO2 emissions for these common vehicle classes in grams per kilometer\n",
    "vehicle_co2_emissions = filtered_data.groupby('class')['co2_emissions_g_per_km'].mean().reset_index()\n",
    "\n",
    "# Prepare the data for the Pyramid Chart with metric units\n",
    "pyramid_data = [\n",
    "    {'name': row['class'], 'value': row['co2_emissions_g_per_km']}\n",
    "    for _, row in vehicle_co2_emissions.iterrows()\n",
    "]\n",
    "\n",
    "# Sort data in descending order to have the largest CO2 emissions at the top\n",
    "pyramid_data = sorted(pyramid_data, key=lambda x: x['value'], reverse=True)\n",
    "\n",
    "# Create the Pyramid Chart\n",
    "chart = lc.PyramidChart(\n",
    "    slice_mode='height',\n",
    "    theme=lc.Themes.TurquoiseHexagon,\n",
    "    title='Common Vehicle Class Breakdown by CO2 Emissions (g/km)'\n",
    ")\n",
    "\n",
    "# Add the data slices to the pyramid chart\n",
    "chart.add_slices(pyramid_data)\n",
    "\n",
    "# Apply the custom color palette to the slices\n",
    "chart.set_slice_colors(emissions_colors)\n",
    "\n",
    "# Add a legend to explain the chart's purpose\n",
    "chart.add_legend().add(chart).set_title('CO2 Emissions (g/km)')\n",
    "\n",
    "# Open the chart\n",
    "chart.open()"
   ]
  },
  {
   "cell_type": "markdown",
   "metadata": {},
   "source": [
    "## Donut Chart"
   ]
  },
  {
   "cell_type": "code",
   "execution_count": 15,
   "metadata": {},
   "outputs": [
    {
     "data": {
      "text/html": [
       "\n",
       "        <iframe\n",
       "            width=\"100%\"\n",
       "            height=\"600\"\n",
       "            src=\"http://localhost:64558\"\n",
       "            frameborder=\"0\"\n",
       "            allowfullscreen\n",
       "            \n",
       "        ></iframe>\n",
       "        "
      ],
      "text/plain": [
       "<IPython.lib.display.IFrame at 0x275a56330e0>"
      ]
     },
     "metadata": {},
     "output_type": "display_data"
    },
    {
     "name": "stderr",
     "output_type": "stream",
     "text": [
      "127.0.0.1 - - [02/Jan/2025 18:01:05] \"GET / HTTP/1.1\" 200 -\n"
     ]
    }
   ],
   "source": [
    "# Calculate the count breakdown of fuel types\n",
    "fuel_type_breakdown = vehicle_fuel['fuel_type'].value_counts().reset_index()\n",
    "fuel_type_breakdown.columns = ['fuel_type', 'count']  # Rename column to 'count'\n",
    "\n",
    "# Prepare the data for the Donut Chart\n",
    "donut_data = [\n",
    "    {'name': row['fuel_type'], 'value': row['count']}\n",
    "    for _, row in fuel_type_breakdown.iterrows()\n",
    "]\n",
    "\n",
    "# Create the Donut Chart\n",
    "chart = lc.PieChart(\n",
    "    labels_inside_slices=False,  # Display labels inside slices\n",
    "    title='Fuel Type Breakdown',\n",
    "    theme=lc.Themes.TurquoiseHexagon\n",
    ")\n",
    "\n",
    "# Add the data slices to the chart\n",
    "chart.add_slices(donut_data)\n",
    "\n",
    "# Customize the chart appearance\n",
    "chart.set_label_formatter('NamePlusValue')\n",
    "chart.set_inner_radius(50)  # Adjust for the donut chart style\n",
    "\n",
    "# Add a legend to the chart\n",
    "legend = chart.add_legend(data=chart).set_title('Fuel Types')\n",
    "\n",
    "# Open the chart\n",
    "chart.open()"
   ]
  },
  {
   "cell_type": "markdown",
   "metadata": {},
   "source": [
    "## Treemap Chart"
   ]
  },
  {
   "cell_type": "code",
   "execution_count": 16,
   "metadata": {},
   "outputs": [
    {
     "data": {
      "text/html": [
       "\n",
       "        <iframe\n",
       "            width=\"100%\"\n",
       "            height=\"600\"\n",
       "            src=\"http://localhost:64559\"\n",
       "            frameborder=\"0\"\n",
       "            allowfullscreen\n",
       "            \n",
       "        ></iframe>\n",
       "        "
      ],
      "text/plain": [
       "<IPython.lib.display.IFrame at 0x275a6d80cb0>"
      ]
     },
     "metadata": {},
     "output_type": "display_data"
    },
    {
     "name": "stderr",
     "output_type": "stream",
     "text": [
      "127.0.0.1 - - [02/Jan/2025 18:01:07] \"GET / HTTP/1.1\" 200 -\n"
     ]
    }
   ],
   "source": [
    "# Calculate the average fuel efficiency in L/100 km by vehicle class for all available classes\n",
    "average_l_per_100km_by_class = vehicle_fuel.groupby('class')['fuel_efficiency_l_per_100km'].mean().dropna().sort_values()\n",
    "\n",
    "# Prepare data for the treemap with L/100 km values\n",
    "data = [{'name': vehicle_class, 'value': l_per_100km} for vehicle_class, l_per_100km in average_l_per_100km_by_class.items()]\n",
    "\n",
    "# Create the TreeMapChart\n",
    "chart = lc.TreeMapChart(\n",
    "    theme=lc.Themes.TurquoiseHexagon,\n",
    "    title=\"Average Fuel Efficiency by Vehicle Class (L/100 km)\"\n",
    ")\n",
    "\n",
    "# Set node coloring based on L/100 km values\n",
    "chart.set_node_coloring(\n",
    "    steps=[\n",
    "        {'value': average_l_per_100km_by_class.max(), 'color': lc.Color('red')},    # Higher L/100 km (less efficient)\n",
    "        {'value': average_l_per_100km_by_class.mean(), 'color': lc.Color('yellow')},\n",
    "        {'value': average_l_per_100km_by_class.min(), 'color': lc.Color('green')},  # Lower L/100 km (more efficient)\n",
    "    ],\n",
    ")\n",
    "\n",
    "# Set the data\n",
    "chart.set_data([{'name': 'Vehicle Classes', 'children': data}])\n",
    "\n",
    "# Open the chart\n",
    "chart.open()"
   ]
  }
 ],
 "metadata": {
  "kernelspec": {
   "display_name": "Python 3",
   "language": "python",
   "name": "python3"
  },
  "language_info": {
   "codemirror_mode": {
    "name": "ipython",
    "version": 3
   },
   "file_extension": ".py",
   "mimetype": "text/x-python",
   "name": "python",
   "nbconvert_exporter": "python",
   "pygments_lexer": "ipython3",
   "version": "3.12.4"
  }
 },
 "nbformat": 4,
 "nbformat_minor": 2
}
